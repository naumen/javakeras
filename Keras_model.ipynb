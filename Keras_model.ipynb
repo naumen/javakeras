{
 "cells": [
  {
   "cell_type": "code",
   "execution_count": 1,
   "metadata": {},
   "outputs": [
    {
     "name": "stderr",
     "output_type": "stream",
     "text": [
      "Using TensorFlow backend.\n"
     ]
    }
   ],
   "source": [
    "import tensorflow as tf\n",
    "import keras\n",
    "from keras import Model\n",
    "import numpy"
   ]
  },
  {
   "cell_type": "code",
   "execution_count": 2,
   "metadata": {},
   "outputs": [],
   "source": [
    "def gen_matrix():\n",
    "    return numpy.array([numpy.random.randint(10, size=(1,100)), numpy.random.randint(2, size=(1,100))])\n",
    "\n",
    "def generator(batch_size):\n",
    "    while True:\n",
    "\n",
    "        matrix = gen_matrix()\n",
    "        for i in range(batch_size-1):\n",
    "            matrix = numpy.concatenate([matrix, gen_matrix()], axis=1)\n",
    "        yield matrix        "
   ]
  },
  {
   "cell_type": "code",
   "execution_count": 3,
   "metadata": {},
   "outputs": [],
   "source": [
    "#create model\n",
    "inputs = keras.layers.Input(shape=[None], dtype='int32')\n",
    "\n",
    "padding = keras.layers.Lambda(lambda x: tf.pad(x, paddings=[[0,0],[10,10]],\n",
    "                                                       constant_values=1))(inputs)\n",
    "\n",
    "embedding = keras.layers.Embedding(input_dim=10,\n",
    "                                   output_dim=14)(padding)\n",
    "\n",
    "convolution = keras.layers.Conv1D(filters=2*14, kernel_size=21,\n",
    "                                         padding='same')(embedding)\n",
    "\n",
    "lstm_conv = keras.layers.LSTM(64, return_sequences=True, \n",
    "               dropout=0.1, recurrent_dropout=0.1)(convolution)\n",
    "\n",
    "lstm = keras.layers.LSTM(96, return_sequences=True, \n",
    "               dropout=0.1, recurrent_dropout=0.1)(embedding)\n",
    "\n",
    "slicing_lstm = keras.layers.Lambda(lambda x: x[:, 10:-10])(lstm)\n",
    "\n",
    "slicing_convolution = keras.layers.Lambda(lambda x: x[:,10:-10])(lstm_conv)\n",
    "\n",
    "concat_layer = keras.layers.Concatenate(axis=-1)([slicing_lstm, slicing_convolution])\n",
    "\n",
    "dense1 = keras.layers.Dense(8, activation='elu')(concat_layer)\n",
    "\n",
    "batch_layer = keras.layers.BatchNormalization()(dense1)\n",
    "\n",
    "dense = keras.layers.Dense(1, activation='sigmoid')(batch_layer)\n",
    "\n",
    "squeeze = keras.layers.Lambda(lambda x: tf.squeeze(\n",
    "        x, axis=-1))(dense)\n",
    "\n",
    "model1 = Model(inputs=inputs, outputs=squeeze)\n",
    "#compile model\n",
    "model1.compile(loss='binary_crossentropy',optimizer='adam', metrics=[])"
   ]
  },
  {
   "cell_type": "code",
   "execution_count": 4,
   "metadata": {
    "scrolled": false
   },
   "outputs": [
    {
     "name": "stdout",
     "output_type": "stream",
     "text": [
      "Model: \"model_1\"\n",
      "__________________________________________________________________________________________________\n",
      "Layer (type)                    Output Shape         Param #     Connected to                     \n",
      "==================================================================================================\n",
      "input_1 (InputLayer)            (None, None)         0                                            \n",
      "__________________________________________________________________________________________________\n",
      "lambda_1 (Lambda)               (None, None)         0           input_1[0][0]                    \n",
      "__________________________________________________________________________________________________\n",
      "embedding_1 (Embedding)         (None, None, 14)     140         lambda_1[0][0]                   \n",
      "__________________________________________________________________________________________________\n",
      "conv1d_1 (Conv1D)               (None, None, 28)     8260        embedding_1[0][0]                \n",
      "__________________________________________________________________________________________________\n",
      "lstm_2 (LSTM)                   (None, None, 96)     42624       embedding_1[0][0]                \n",
      "__________________________________________________________________________________________________\n",
      "lstm_1 (LSTM)                   (None, None, 64)     23808       conv1d_1[0][0]                   \n",
      "__________________________________________________________________________________________________\n",
      "lambda_2 (Lambda)               (None, None, 96)     0           lstm_2[0][0]                     \n",
      "__________________________________________________________________________________________________\n",
      "lambda_3 (Lambda)               (None, None, 64)     0           lstm_1[0][0]                     \n",
      "__________________________________________________________________________________________________\n",
      "concatenate_1 (Concatenate)     (None, None, 160)    0           lambda_2[0][0]                   \n",
      "                                                                 lambda_3[0][0]                   \n",
      "__________________________________________________________________________________________________\n",
      "dense_1 (Dense)                 (None, None, 8)      1288        concatenate_1[0][0]              \n",
      "__________________________________________________________________________________________________\n",
      "batch_normalization_1 (BatchNor (None, None, 8)      32          dense_1[0][0]                    \n",
      "__________________________________________________________________________________________________\n",
      "dense_2 (Dense)                 (None, None, 1)      9           batch_normalization_1[0][0]      \n",
      "__________________________________________________________________________________________________\n",
      "lambda_4 (Lambda)               (None, None)         0           dense_2[0][0]                    \n",
      "==================================================================================================\n",
      "Total params: 76,161\n",
      "Trainable params: 76,145\n",
      "Non-trainable params: 16\n",
      "__________________________________________________________________________________________________\n"
     ]
    }
   ],
   "source": [
    "model1.summary()"
   ]
  },
  {
   "cell_type": "code",
   "execution_count": 5,
   "metadata": {},
   "outputs": [
    {
     "name": "stdout",
     "output_type": "stream",
     "text": [
      "Epoch 1/10\n",
      "10/10 [==============================] - 3s 250ms/step - loss: 0.6948\n",
      "Epoch 2/10\n",
      "10/10 [==============================] - 2s 176ms/step - loss: 0.6936\n",
      "Epoch 3/10\n",
      "10/10 [==============================] - 2s 179ms/step - loss: 0.6935\n",
      "Epoch 4/10\n",
      "10/10 [==============================] - 2s 178ms/step - loss: 0.6934\n",
      "Epoch 5/10\n",
      "10/10 [==============================] - 2s 177ms/step - loss: 0.6933\n",
      "Epoch 6/10\n",
      "10/10 [==============================] - 2s 177ms/step - loss: 0.6934\n",
      "Epoch 7/10\n",
      "10/10 [==============================] - 2s 175ms/step - loss: 0.6933\n",
      "Epoch 8/10\n",
      "10/10 [==============================] - 2s 178ms/step - loss: 0.6933\n",
      "Epoch 9/10\n",
      "10/10 [==============================] - 2s 176ms/step - loss: 0.6933\n",
      "Epoch 10/10\n",
      "10/10 [==============================] - 2s 178ms/step - loss: 0.6933\n"
     ]
    },
    {
     "data": {
      "text/plain": [
       "<keras.callbacks.History at 0x7f8a4a363208>"
      ]
     },
     "execution_count": 5,
     "metadata": {},
     "output_type": "execute_result"
    }
   ],
   "source": [
    "# model.fit\n",
    "model1.fit_generator(generator(batch_size=100), steps_per_epoch=10, epochs=10)"
   ]
  },
  {
   "cell_type": "code",
   "execution_count": 6,
   "metadata": {},
   "outputs": [
    {
     "name": "stdout",
     "output_type": "stream",
     "text": [
      "[[0.6419542  0.6400714  0.63916177 0.63838315]]\n"
     ]
    }
   ],
   "source": [
    "prediction1 = model1.predict(numpy.array([[1,3,4,8]]))\n",
    "print(prediction1)"
   ]
  },
  {
   "cell_type": "code",
   "execution_count": 7,
   "metadata": {},
   "outputs": [],
   "source": [
    "# saving model\n",
    "model1.save('model1_functional.h5') "
   ]
  }
 ],
 "metadata": {
  "kernelspec": {
   "display_name": "Python 3",
   "language": "python",
   "name": "python3"
  },
  "language_info": {
   "codemirror_mode": {
    "name": "ipython",
    "version": 3
   },
   "file_extension": ".py",
   "mimetype": "text/x-python",
   "name": "python",
   "nbconvert_exporter": "python",
   "pygments_lexer": "ipython3",
   "version": "3.6.0"
  }
 },
 "nbformat": 4,
 "nbformat_minor": 2
}
